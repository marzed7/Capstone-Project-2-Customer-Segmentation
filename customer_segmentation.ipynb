{
 "cells": [
  {
   "cell_type": "code",
   "execution_count": 518,
   "metadata": {},
   "outputs": [],
   "source": [
    "import os\n",
    "import pandas as pd\n",
    "import numpy as np\n",
    "import matplotlib.pyplot as plt\n",
    "\n",
    "import tensorflow as tf\n",
    "from tensorflow.keras.models import Sequential\n",
    "from tensorflow.keras.layers import Dense, Dropout, BatchNormalization\n",
    "from tensorflow.keras.optimizers import Adam\n",
    "from sklearn.model_selection import train_test_split\n",
    "from sklearn.metrics import accuracy_score, f1_score"
   ]
  },
  {
   "cell_type": "code",
   "execution_count": 519,
   "metadata": {},
   "outputs": [],
   "source": [
    "PATH = os.getcwd()\n",
    "\n",
    "TRAIN_PATH = os.path.join(PATH, 'customer_segmentation.csv')\n",
    "\n",
    "df = pd.read_csv(TRAIN_PATH)"
   ]
  },
  {
   "cell_type": "code",
   "execution_count": 520,
   "metadata": {},
   "outputs": [
    {
     "data": {
      "text/html": [
       "<div>\n",
       "<style scoped>\n",
       "    .dataframe tbody tr th:only-of-type {\n",
       "        vertical-align: middle;\n",
       "    }\n",
       "\n",
       "    .dataframe tbody tr th {\n",
       "        vertical-align: top;\n",
       "    }\n",
       "\n",
       "    .dataframe thead th {\n",
       "        text-align: right;\n",
       "    }\n",
       "</style>\n",
       "<table border=\"1\" class=\"dataframe\">\n",
       "  <thead>\n",
       "    <tr style=\"text-align: right;\">\n",
       "      <th></th>\n",
       "      <th>ID</th>\n",
       "      <th>Gender</th>\n",
       "      <th>Ever_Married</th>\n",
       "      <th>Age</th>\n",
       "      <th>Graduated</th>\n",
       "      <th>Profession</th>\n",
       "      <th>Work_Experience</th>\n",
       "      <th>Spending_Score</th>\n",
       "      <th>Family_Size</th>\n",
       "      <th>Var_1</th>\n",
       "      <th>Segmentation</th>\n",
       "    </tr>\n",
       "  </thead>\n",
       "  <tbody>\n",
       "    <tr>\n",
       "      <th>0</th>\n",
       "      <td>462809</td>\n",
       "      <td>Male</td>\n",
       "      <td>No</td>\n",
       "      <td>22</td>\n",
       "      <td>No</td>\n",
       "      <td>Healthcare</td>\n",
       "      <td>1.0</td>\n",
       "      <td>Low</td>\n",
       "      <td>4.0</td>\n",
       "      <td>Cat_4</td>\n",
       "      <td>D</td>\n",
       "    </tr>\n",
       "    <tr>\n",
       "      <th>1</th>\n",
       "      <td>462643</td>\n",
       "      <td>Female</td>\n",
       "      <td>Yes</td>\n",
       "      <td>38</td>\n",
       "      <td>Yes</td>\n",
       "      <td>Engineer</td>\n",
       "      <td>NaN</td>\n",
       "      <td>Average</td>\n",
       "      <td>3.0</td>\n",
       "      <td>Cat_4</td>\n",
       "      <td>A</td>\n",
       "    </tr>\n",
       "    <tr>\n",
       "      <th>2</th>\n",
       "      <td>466315</td>\n",
       "      <td>Female</td>\n",
       "      <td>Yes</td>\n",
       "      <td>67</td>\n",
       "      <td>Yes</td>\n",
       "      <td>Engineer</td>\n",
       "      <td>1.0</td>\n",
       "      <td>Low</td>\n",
       "      <td>1.0</td>\n",
       "      <td>Cat_6</td>\n",
       "      <td>B</td>\n",
       "    </tr>\n",
       "    <tr>\n",
       "      <th>3</th>\n",
       "      <td>461735</td>\n",
       "      <td>Male</td>\n",
       "      <td>Yes</td>\n",
       "      <td>67</td>\n",
       "      <td>Yes</td>\n",
       "      <td>Lawyer</td>\n",
       "      <td>0.0</td>\n",
       "      <td>High</td>\n",
       "      <td>2.0</td>\n",
       "      <td>Cat_6</td>\n",
       "      <td>B</td>\n",
       "    </tr>\n",
       "    <tr>\n",
       "      <th>4</th>\n",
       "      <td>462669</td>\n",
       "      <td>Female</td>\n",
       "      <td>Yes</td>\n",
       "      <td>40</td>\n",
       "      <td>Yes</td>\n",
       "      <td>Entertainment</td>\n",
       "      <td>NaN</td>\n",
       "      <td>High</td>\n",
       "      <td>6.0</td>\n",
       "      <td>Cat_6</td>\n",
       "      <td>A</td>\n",
       "    </tr>\n",
       "  </tbody>\n",
       "</table>\n",
       "</div>"
      ],
      "text/plain": [
       "       ID  Gender Ever_Married  Age Graduated     Profession  Work_Experience  \\\n",
       "0  462809    Male           No   22        No     Healthcare              1.0   \n",
       "1  462643  Female          Yes   38       Yes       Engineer              NaN   \n",
       "2  466315  Female          Yes   67       Yes       Engineer              1.0   \n",
       "3  461735    Male          Yes   67       Yes         Lawyer              0.0   \n",
       "4  462669  Female          Yes   40       Yes  Entertainment              NaN   \n",
       "\n",
       "  Spending_Score  Family_Size  Var_1 Segmentation  \n",
       "0            Low          4.0  Cat_4            D  \n",
       "1        Average          3.0  Cat_4            A  \n",
       "2            Low          1.0  Cat_6            B  \n",
       "3           High          2.0  Cat_6            B  \n",
       "4           High          6.0  Cat_6            A  "
      ]
     },
     "execution_count": 520,
     "metadata": {},
     "output_type": "execute_result"
    }
   ],
   "source": [
    "df.head()"
   ]
  },
  {
   "cell_type": "code",
   "execution_count": 521,
   "metadata": {},
   "outputs": [
    {
     "name": "stdout",
     "output_type": "stream",
     "text": [
      "<class 'pandas.core.frame.DataFrame'>\n",
      "RangeIndex: 8068 entries, 0 to 8067\n",
      "Data columns (total 11 columns):\n",
      " #   Column           Non-Null Count  Dtype  \n",
      "---  ------           --------------  -----  \n",
      " 0   ID               8068 non-null   int64  \n",
      " 1   Gender           8068 non-null   object \n",
      " 2   Ever_Married     7928 non-null   object \n",
      " 3   Age              8068 non-null   int64  \n",
      " 4   Graduated        7990 non-null   object \n",
      " 5   Profession       7944 non-null   object \n",
      " 6   Work_Experience  7239 non-null   float64\n",
      " 7   Spending_Score   8068 non-null   object \n",
      " 8   Family_Size      7733 non-null   float64\n",
      " 9   Var_1            7992 non-null   object \n",
      " 10  Segmentation     8068 non-null   object \n",
      "dtypes: float64(2), int64(2), object(7)\n",
      "memory usage: 693.5+ KB\n"
     ]
    }
   ],
   "source": [
    "df.info()"
   ]
  },
  {
   "cell_type": "markdown",
   "metadata": {},
   "source": [
    "# miss value"
   ]
  },
  {
   "cell_type": "code",
   "execution_count": 522,
   "metadata": {},
   "outputs": [
    {
     "data": {
      "text/plain": [
       "ID                   0\n",
       "Gender               0\n",
       "Ever_Married       140\n",
       "Age                  0\n",
       "Graduated           78\n",
       "Profession         124\n",
       "Work_Experience    829\n",
       "Spending_Score       0\n",
       "Family_Size        335\n",
       "Var_1               76\n",
       "Segmentation         0\n",
       "dtype: int64"
      ]
     },
     "execution_count": 522,
     "metadata": {},
     "output_type": "execute_result"
    }
   ],
   "source": [
    "df.isnull().sum()"
   ]
  },
  {
   "cell_type": "code",
   "execution_count": 523,
   "metadata": {},
   "outputs": [],
   "source": [
    "# convert missing values to 'MSS' for visualization\n",
    "df = df.fillna('MSS')"
   ]
  },
  {
   "cell_type": "code",
   "execution_count": 524,
   "metadata": {},
   "outputs": [
    {
     "data": {
      "text/plain": [
       "ID                 0\n",
       "Gender             0\n",
       "Ever_Married       0\n",
       "Age                0\n",
       "Graduated          0\n",
       "Profession         0\n",
       "Work_Experience    0\n",
       "Spending_Score     0\n",
       "Family_Size        0\n",
       "Var_1              0\n",
       "Segmentation       0\n",
       "dtype: int64"
      ]
     },
     "execution_count": 524,
     "metadata": {},
     "output_type": "execute_result"
    }
   ],
   "source": [
    "df.isnull().sum()"
   ]
  },
  {
   "cell_type": "code",
   "execution_count": 525,
   "metadata": {},
   "outputs": [],
   "source": [
    "# columns contain MSS value\n",
    "col_MSS = ['Ever_Married', 'Graduated', 'Profession', 'Work_Experience', 'Family_Size', 'Var_1']"
   ]
  },
  {
   "cell_type": "code",
   "execution_count": 526,
   "metadata": {},
   "outputs": [
    {
     "name": "stderr",
     "output_type": "stream",
     "text": [
      "C:\\Users\\Wan Roslini\\AppData\\Local\\Temp\\ipykernel_6100\\2725820774.py:7: UserWarning: The figure layout has changed to tight\n",
      "  plt.tight_layout()\n",
      "C:\\Users\\Wan Roslini\\AppData\\Local\\Temp\\ipykernel_6100\\2725820774.py:7: UserWarning: The figure layout has changed to tight\n",
      "  plt.tight_layout()\n",
      "C:\\Users\\Wan Roslini\\AppData\\Local\\Temp\\ipykernel_6100\\2725820774.py:7: UserWarning: The figure layout has changed to tight\n",
      "  plt.tight_layout()\n",
      "C:\\Users\\Wan Roslini\\AppData\\Local\\Temp\\ipykernel_6100\\2725820774.py:7: UserWarning: The figure layout has changed to tight\n",
      "  plt.tight_layout()\n",
      "C:\\Users\\Wan Roslini\\AppData\\Local\\Temp\\ipykernel_6100\\2725820774.py:7: UserWarning: The figure layout has changed to tight\n",
      "  plt.tight_layout()\n"
     ]
    },
    {
     "data": {
      "image/png": "[encoded data removed]",
      "text/plain": [
       "<Figure size 1200x800 with 6 Axes>"
      ]
     },
     "metadata": {},
     "output_type": "display_data"
    }
   ],
   "source": [
    "# Create subplots for each column\n",
    "plt.figure(figsize=(12, 8))\n",
    "for i, column in enumerate(col_MSS, 1):\n",
    "    plt.subplot(2, 3, i)  # 2 rows, 3 columns of subplots\n",
    "    df[column].value_counts().plot(kind='bar', title=column)\n",
    "    plt.xticks(rotation=90)\n",
    "    plt.tight_layout()\n",
    "\n",
    "plt.show()"
   ]
  },
  {
   "cell_type": "code",
   "execution_count": 527,
   "metadata": {},
   "outputs": [],
   "source": [
    "# Replace 'MSS' with np.NaN\n",
    "df['Ever_Married'] = df['Ever_Married'].replace('MSS', np.NaN)\n",
    "df['Graduated'] = df['Graduated'].replace('MSS', np.NaN)\n",
    "df['Var_1'] = df['Var_1'].replace('MSS', np.NaN)"
   ]
  },
  {
   "cell_type": "code",
   "execution_count": 528,
   "metadata": {},
   "outputs": [],
   "source": [
    "# dealing with missing values from the visualization\n",
    "# 1. fill missing values with forward fill\n",
    "df['Ever_Married'].fillna(method ='ffill', inplace=True)\n",
    "df['Graduated'].fillna(method ='ffill', inplace=True)\n",
    "df['Var_1'].fillna(method ='ffill', inplace=True)"
   ]
  },
  {
   "cell_type": "code",
   "execution_count": 529,
   "metadata": {},
   "outputs": [],
   "source": [
    "# Replace 'MSS' with np.NaN for Profession\n",
    "df['Profession'] = df['Profession'].replace('MSS', np.NaN)"
   ]
  },
  {
   "cell_type": "code",
   "execution_count": 530,
   "metadata": {},
   "outputs": [],
   "source": [
    "# dealing with missing values from the visualization\n",
    "# 2. drop NA in Profession\n",
    "df = df.dropna(subset=['Profession'])"
   ]
  },
  {
   "cell_type": "code",
   "execution_count": 531,
   "metadata": {},
   "outputs": [],
   "source": [
    "# Replace 'MSS' with np.NaN for Work_Experience, Family_Size\n",
    "df['Work_Experience'] = df['Work_Experience'].replace('MSS', np.NaN)\n",
    "df['Family_Size'] = df['Family_Size'].replace('MSS', np.NaN)"
   ]
  },
  {
   "cell_type": "code",
   "execution_count": 532,
   "metadata": {},
   "outputs": [],
   "source": [
    "# dealing with missing values from the visualization\n",
    "# 3. Replace 'MSS' with np.NaN for Work_Experience, Family_Size\n",
    "df['Work_Experience'] = df['Work_Experience'].replace(np.NaN, df['Work_Experience'].median())\n",
    "df['Family_Size'] = df['Family_Size'].replace(np.NaN, df['Family_Size'].median())"
   ]
  },
  {
   "cell_type": "code",
   "execution_count": 533,
   "metadata": {},
   "outputs": [
    {
     "data": {
      "text/plain": [
       "ID                 0\n",
       "Gender             0\n",
       "Ever_Married       0\n",
       "Age                0\n",
       "Graduated          0\n",
       "Profession         0\n",
       "Work_Experience    0\n",
       "Spending_Score     0\n",
       "Family_Size        0\n",
       "Var_1              0\n",
       "Segmentation       0\n",
       "dtype: int64"
      ]
     },
     "execution_count": 533,
     "metadata": {},
     "output_type": "execute_result"
    }
   ],
   "source": [
    "df.isna().sum()"
   ]
  },
  {
   "cell_type": "markdown",
   "metadata": {},
   "source": [
    "# label encoder"
   ]
  },
  {
   "cell_type": "code",
   "execution_count": 534,
   "metadata": {},
   "outputs": [
    {
     "data": {
      "text/html": [
       "<div>\n",
       "<style scoped>\n",
       "    .dataframe tbody tr th:only-of-type {\n",
       "        vertical-align: middle;\n",
       "    }\n",
       "\n",
       "    .dataframe tbody tr th {\n",
       "        vertical-align: top;\n",
       "    }\n",
       "\n",
       "    .dataframe thead th {\n",
       "        text-align: right;\n",
       "    }\n",
       "</style>\n",
       "<table border=\"1\" class=\"dataframe\">\n",
       "  <thead>\n",
       "    <tr style=\"text-align: right;\">\n",
       "      <th></th>\n",
       "      <th>ID</th>\n",
       "      <th>Gender</th>\n",
       "      <th>Ever_Married</th>\n",
       "      <th>Age</th>\n",
       "      <th>Graduated</th>\n",
       "      <th>Profession</th>\n",
       "      <th>Work_Experience</th>\n",
       "      <th>Spending_Score</th>\n",
       "      <th>Family_Size</th>\n",
       "      <th>Var_1</th>\n",
       "      <th>Segmentation</th>\n",
       "    </tr>\n",
       "  </thead>\n",
       "  <tbody>\n",
       "    <tr>\n",
       "      <th>0</th>\n",
       "      <td>462809</td>\n",
       "      <td>Male</td>\n",
       "      <td>No</td>\n",
       "      <td>22</td>\n",
       "      <td>No</td>\n",
       "      <td>Healthcare</td>\n",
       "      <td>1.0</td>\n",
       "      <td>Low</td>\n",
       "      <td>4.0</td>\n",
       "      <td>Cat_4</td>\n",
       "      <td>D</td>\n",
       "    </tr>\n",
       "    <tr>\n",
       "      <th>1</th>\n",
       "      <td>462643</td>\n",
       "      <td>Female</td>\n",
       "      <td>Yes</td>\n",
       "      <td>38</td>\n",
       "      <td>Yes</td>\n",
       "      <td>Engineer</td>\n",
       "      <td>1.0</td>\n",
       "      <td>Average</td>\n",
       "      <td>3.0</td>\n",
       "      <td>Cat_4</td>\n",
       "      <td>A</td>\n",
       "    </tr>\n",
       "    <tr>\n",
       "      <th>2</th>\n",
       "      <td>466315</td>\n",
       "      <td>Female</td>\n",
       "      <td>Yes</td>\n",
       "      <td>67</td>\n",
       "      <td>Yes</td>\n",
       "      <td>Engineer</td>\n",
       "      <td>1.0</td>\n",
       "      <td>Low</td>\n",
       "      <td>1.0</td>\n",
       "      <td>Cat_6</td>\n",
       "      <td>B</td>\n",
       "    </tr>\n",
       "    <tr>\n",
       "      <th>3</th>\n",
       "      <td>461735</td>\n",
       "      <td>Male</td>\n",
       "      <td>Yes</td>\n",
       "      <td>67</td>\n",
       "      <td>Yes</td>\n",
       "      <td>Lawyer</td>\n",
       "      <td>0.0</td>\n",
       "      <td>High</td>\n",
       "      <td>2.0</td>\n",
       "      <td>Cat_6</td>\n",
       "      <td>B</td>\n",
       "    </tr>\n",
       "    <tr>\n",
       "      <th>4</th>\n",
       "      <td>462669</td>\n",
       "      <td>Female</td>\n",
       "      <td>Yes</td>\n",
       "      <td>40</td>\n",
       "      <td>Yes</td>\n",
       "      <td>Entertainment</td>\n",
       "      <td>1.0</td>\n",
       "      <td>High</td>\n",
       "      <td>6.0</td>\n",
       "      <td>Cat_6</td>\n",
       "      <td>A</td>\n",
       "    </tr>\n",
       "  </tbody>\n",
       "</table>\n",
       "</div>"
      ],
      "text/plain": [
       "       ID  Gender Ever_Married  Age Graduated     Profession  Work_Experience  \\\n",
       "0  462809    Male           No   22        No     Healthcare              1.0   \n",
       "1  462643  Female          Yes   38       Yes       Engineer              1.0   \n",
       "2  466315  Female          Yes   67       Yes       Engineer              1.0   \n",
       "3  461735    Male          Yes   67       Yes         Lawyer              0.0   \n",
       "4  462669  Female          Yes   40       Yes  Entertainment              1.0   \n",
       "\n",
       "  Spending_Score  Family_Size  Var_1 Segmentation  \n",
       "0            Low          4.0  Cat_4            D  \n",
       "1        Average          3.0  Cat_4            A  \n",
       "2            Low          1.0  Cat_6            B  \n",
       "3           High          2.0  Cat_6            B  \n",
       "4           High          6.0  Cat_6            A  "
      ]
     },
     "execution_count": 534,
     "metadata": {},
     "output_type": "execute_result"
    }
   ],
   "source": [
    "df.head()"
   ]
  },
  {
   "cell_type": "code",
   "execution_count": 535,
   "metadata": {},
   "outputs": [],
   "source": [
    "# label encoder\n",
    "# Convert labels into numerical form (label encoding)\n",
    "from sklearn.preprocessing import LabelEncoder\n",
    "columns_to_encode = ['Gender', 'Ever_Married', 'Graduated', 'Profession', 'Var_1']\n",
    "\n",
    "encoder = LabelEncoder()\n",
    "\n",
    "# Iterate through the columns and perform label encoding\n",
    "for column in columns_to_encode:\n",
    "    df[column] = encoder.fit_transform(df[column].values)"
   ]
  },
  {
   "cell_type": "code",
   "execution_count": 536,
   "metadata": {},
   "outputs": [],
   "source": [
    "# Mapping method in label encoding for column Spending_Score\n",
    "map_spend = {'Low': 0, 'Average': 1, 'High': 2}\n",
    "\n",
    "# Apply the mapping to the column\n",
    "df['Spending_Score'] = df['Spending_Score'].map(map_spend)"
   ]
  },
  {
   "cell_type": "code",
   "execution_count": 537,
   "metadata": {},
   "outputs": [
    {
     "data": {
      "text/html": [
       "<div>\n",
       "<style scoped>\n",
       "    .dataframe tbody tr th:only-of-type {\n",
       "        vertical-align: middle;\n",
       "    }\n",
       "\n",
       "    .dataframe tbody tr th {\n",
       "        vertical-align: top;\n",
       "    }\n",
       "\n",
       "    .dataframe thead th {\n",
       "        text-align: right;\n",
       "    }\n",
       "</style>\n",
       "<table border=\"1\" class=\"dataframe\">\n",
       "  <thead>\n",
       "    <tr style=\"text-align: right;\">\n",
       "      <th></th>\n",
       "      <th>ID</th>\n",
       "      <th>Gender</th>\n",
       "      <th>Ever_Married</th>\n",
       "      <th>Age</th>\n",
       "      <th>Graduated</th>\n",
       "      <th>Profession</th>\n",
       "      <th>Work_Experience</th>\n",
       "      <th>Spending_Score</th>\n",
       "      <th>Family_Size</th>\n",
       "      <th>Var_1</th>\n",
       "      <th>Segmentation</th>\n",
       "    </tr>\n",
       "  </thead>\n",
       "  <tbody>\n",
       "    <tr>\n",
       "      <th>0</th>\n",
       "      <td>462809</td>\n",
       "      <td>1</td>\n",
       "      <td>0</td>\n",
       "      <td>22</td>\n",
       "      <td>0</td>\n",
       "      <td>5</td>\n",
       "      <td>1.0</td>\n",
       "      <td>0</td>\n",
       "      <td>4.0</td>\n",
       "      <td>3</td>\n",
       "      <td>D</td>\n",
       "    </tr>\n",
       "    <tr>\n",
       "      <th>1</th>\n",
       "      <td>462643</td>\n",
       "      <td>0</td>\n",
       "      <td>1</td>\n",
       "      <td>38</td>\n",
       "      <td>1</td>\n",
       "      <td>2</td>\n",
       "      <td>1.0</td>\n",
       "      <td>1</td>\n",
       "      <td>3.0</td>\n",
       "      <td>3</td>\n",
       "      <td>A</td>\n",
       "    </tr>\n",
       "    <tr>\n",
       "      <th>2</th>\n",
       "      <td>466315</td>\n",
       "      <td>0</td>\n",
       "      <td>1</td>\n",
       "      <td>67</td>\n",
       "      <td>1</td>\n",
       "      <td>2</td>\n",
       "      <td>1.0</td>\n",
       "      <td>0</td>\n",
       "      <td>1.0</td>\n",
       "      <td>5</td>\n",
       "      <td>B</td>\n",
       "    </tr>\n",
       "    <tr>\n",
       "      <th>3</th>\n",
       "      <td>461735</td>\n",
       "      <td>1</td>\n",
       "      <td>1</td>\n",
       "      <td>67</td>\n",
       "      <td>1</td>\n",
       "      <td>7</td>\n",
       "      <td>0.0</td>\n",
       "      <td>2</td>\n",
       "      <td>2.0</td>\n",
       "      <td>5</td>\n",
       "      <td>B</td>\n",
       "    </tr>\n",
       "    <tr>\n",
       "      <th>4</th>\n",
       "      <td>462669</td>\n",
       "      <td>0</td>\n",
       "      <td>1</td>\n",
       "      <td>40</td>\n",
       "      <td>1</td>\n",
       "      <td>3</td>\n",
       "      <td>1.0</td>\n",
       "      <td>2</td>\n",
       "      <td>6.0</td>\n",
       "      <td>5</td>\n",
       "      <td>A</td>\n",
       "    </tr>\n",
       "  </tbody>\n",
       "</table>\n",
       "</div>"
      ],
      "text/plain": [
       "       ID  Gender  Ever_Married  Age  Graduated  Profession  Work_Experience  \\\n",
       "0  462809       1             0   22          0           5              1.0   \n",
       "1  462643       0             1   38          1           2              1.0   \n",
       "2  466315       0             1   67          1           2              1.0   \n",
       "3  461735       1             1   67          1           7              0.0   \n",
       "4  462669       0             1   40          1           3              1.0   \n",
       "\n",
       "   Spending_Score  Family_Size  Var_1 Segmentation  \n",
       "0               0          4.0      3            D  \n",
       "1               1          3.0      3            A  \n",
       "2               0          1.0      5            B  \n",
       "3               2          2.0      5            B  \n",
       "4               2          6.0      5            A  "
      ]
     },
     "execution_count": 537,
     "metadata": {},
     "output_type": "execute_result"
    }
   ],
   "source": [
    "df.head()"
   ]
  },
  {
   "cell_type": "code",
   "execution_count": 538,
   "metadata": {},
   "outputs": [
    {
     "data": {
      "text/plain": [
       "ID                 7944\n",
       "Gender                2\n",
       "Ever_Married          2\n",
       "Age                  67\n",
       "Graduated             2\n",
       "Profession            9\n",
       "Work_Experience      15\n",
       "Spending_Score        3\n",
       "Family_Size           9\n",
       "Var_1                 7\n",
       "Segmentation          4\n",
       "dtype: int64"
      ]
     },
     "execution_count": 538,
     "metadata": {},
     "output_type": "execute_result"
    }
   ],
   "source": [
    "#return the sum of uniques values in each column\n",
    "df.nunique()"
   ]
  },
  {
   "cell_type": "markdown",
   "metadata": {},
   "source": [
    "# drop column"
   ]
  },
  {
   "cell_type": "code",
   "execution_count": 539,
   "metadata": {},
   "outputs": [],
   "source": [
    "# drop id because useless\n",
    "df = df.drop(columns=['ID'])"
   ]
  },
  {
   "cell_type": "code",
   "execution_count": 540,
   "metadata": {},
   "outputs": [
    {
     "data": {
      "text/html": [
       "<div>\n",
       "<style scoped>\n",
       "    .dataframe tbody tr th:only-of-type {\n",
       "        vertical-align: middle;\n",
       "    }\n",
       "\n",
       "    .dataframe tbody tr th {\n",
       "        vertical-align: top;\n",
       "    }\n",
       "\n",
       "    .dataframe thead th {\n",
       "        text-align: right;\n",
       "    }\n",
       "</style>\n",
       "<table border=\"1\" class=\"dataframe\">\n",
       "  <thead>\n",
       "    <tr style=\"text-align: right;\">\n",
       "      <th></th>\n",
       "      <th>Gender</th>\n",
       "      <th>Ever_Married</th>\n",
       "      <th>Age</th>\n",
       "      <th>Graduated</th>\n",
       "      <th>Profession</th>\n",
       "      <th>Work_Experience</th>\n",
       "      <th>Spending_Score</th>\n",
       "      <th>Family_Size</th>\n",
       "      <th>Var_1</th>\n",
       "      <th>Segmentation</th>\n",
       "    </tr>\n",
       "  </thead>\n",
       "  <tbody>\n",
       "    <tr>\n",
       "      <th>0</th>\n",
       "      <td>1</td>\n",
       "      <td>0</td>\n",
       "      <td>22</td>\n",
       "      <td>0</td>\n",
       "      <td>5</td>\n",
       "      <td>1.0</td>\n",
       "      <td>0</td>\n",
       "      <td>4.0</td>\n",
       "      <td>3</td>\n",
       "      <td>D</td>\n",
       "    </tr>\n",
       "    <tr>\n",
       "      <th>1</th>\n",
       "      <td>0</td>\n",
       "      <td>1</td>\n",
       "      <td>38</td>\n",
       "      <td>1</td>\n",
       "      <td>2</td>\n",
       "      <td>1.0</td>\n",
       "      <td>1</td>\n",
       "      <td>3.0</td>\n",
       "      <td>3</td>\n",
       "      <td>A</td>\n",
       "    </tr>\n",
       "    <tr>\n",
       "      <th>2</th>\n",
       "      <td>0</td>\n",
       "      <td>1</td>\n",
       "      <td>67</td>\n",
       "      <td>1</td>\n",
       "      <td>2</td>\n",
       "      <td>1.0</td>\n",
       "      <td>0</td>\n",
       "      <td>1.0</td>\n",
       "      <td>5</td>\n",
       "      <td>B</td>\n",
       "    </tr>\n",
       "    <tr>\n",
       "      <th>3</th>\n",
       "      <td>1</td>\n",
       "      <td>1</td>\n",
       "      <td>67</td>\n",
       "      <td>1</td>\n",
       "      <td>7</td>\n",
       "      <td>0.0</td>\n",
       "      <td>2</td>\n",
       "      <td>2.0</td>\n",
       "      <td>5</td>\n",
       "      <td>B</td>\n",
       "    </tr>\n",
       "    <tr>\n",
       "      <th>4</th>\n",
       "      <td>0</td>\n",
       "      <td>1</td>\n",
       "      <td>40</td>\n",
       "      <td>1</td>\n",
       "      <td>3</td>\n",
       "      <td>1.0</td>\n",
       "      <td>2</td>\n",
       "      <td>6.0</td>\n",
       "      <td>5</td>\n",
       "      <td>A</td>\n",
       "    </tr>\n",
       "  </tbody>\n",
       "</table>\n",
       "</div>"
      ],
      "text/plain": [
       "   Gender  Ever_Married  Age  Graduated  Profession  Work_Experience  \\\n",
       "0       1             0   22          0           5              1.0   \n",
       "1       0             1   38          1           2              1.0   \n",
       "2       0             1   67          1           2              1.0   \n",
       "3       1             1   67          1           7              0.0   \n",
       "4       0             1   40          1           3              1.0   \n",
       "\n",
       "   Spending_Score  Family_Size  Var_1 Segmentation  \n",
       "0               0          4.0      3            D  \n",
       "1               1          3.0      3            A  \n",
       "2               0          1.0      5            B  \n",
       "3               2          2.0      5            B  \n",
       "4               2          6.0      5            A  "
      ]
     },
     "execution_count": 540,
     "metadata": {},
     "output_type": "execute_result"
    }
   ],
   "source": [
    "df.head()"
   ]
  },
  {
   "cell_type": "markdown",
   "metadata": {},
   "source": [
    "# Mapping - not use"
   ]
  },
  {
   "cell_type": "code",
   "execution_count": 188,
   "metadata": {},
   "outputs": [],
   "source": [
    "# Mapping method in label encoding for column Gender\n",
    "# map_gen = {'Male': 1, 'Female': 0}\n",
    "\n",
    "# # Apply the mapping to the column\n",
    "# df['Gender'] = df['Gender'].map(map_gen)"
   ]
  },
  {
   "cell_type": "code",
   "execution_count": 189,
   "metadata": {},
   "outputs": [],
   "source": [
    "# Mapping method in label encoding for column Ever_Married, Graduated\n",
    "# map_yesno = {'Yes': 1, 'No': 0}\n",
    "\n",
    "# # Apply the mapping to the column\n",
    "# df['Ever_Married'] = df['Ever_Married'].map(map_yesno)\n",
    "# df['Graduated'] = df['Graduated'].map(map_yesno)"
   ]
  },
  {
   "cell_type": "code",
   "execution_count": 190,
   "metadata": {},
   "outputs": [],
   "source": [
    "# Mapping method in label encoding for column Spending_Score\n",
    "# map_spend = {'Low': 0, 'Average': 1, 'High': 2}\n",
    "\n",
    "# # Apply the mapping to the column\n",
    "# df['Spending_Score'] = df['Spending_Score'].map(map_spend)"
   ]
  },
  {
   "cell_type": "code",
   "execution_count": 191,
   "metadata": {},
   "outputs": [
    {
     "name": "stdout",
     "output_type": "stream",
     "text": [
      "['Healthcare' 'Engineer' 'Lawyer' 'Entertainment' 'Artist' 'Executive'\n",
      " 'Doctor' 'Homemaker' 'Marketing' nan]\n",
      "['Artist', 'Doctor', 'Engineer', 'Entertainment', 'Executive', 'Healthcare', 'Homemaker', 'Lawyer', 'Marketing']\n"
     ]
    }
   ],
   "source": [
    "# Get unique values in the 'Profession' column\n",
    "# unique_professions = df['Profession'].unique()\n",
    "\n",
    "# # Remove NaN values and sort the unique professions alphabetically\n",
    "# sorted_v = sorted(filter(lambda x: isinstance(x, str), unique_professions))\n",
    "\n",
    "# # Print the unique values\n",
    "# print(unique_professions)\n",
    "# print(sorted_v)"
   ]
  },
  {
   "cell_type": "code",
   "execution_count": 192,
   "metadata": {},
   "outputs": [],
   "source": [
    "# Mapping method in label encoding for column Profession\n",
    "# map_prof = {'Artist': 0, 'Doctor': 1, 'Engineer': 2, 'Entertainment': 3, 'Executive': 4, 'Healthcare':5, 'Homemaker':6, 'Lawyer': 7, 'Marketing': 8}\n",
    "\n",
    "# # Apply the mapping to the column\n",
    "# df['Profession'] = df['Profession'].map(map_prof)"
   ]
  },
  {
   "cell_type": "code",
   "execution_count": 193,
   "metadata": {},
   "outputs": [
    {
     "name": "stdout",
     "output_type": "stream",
     "text": [
      "['D' 'A' 'B' 'C']\n"
     ]
    }
   ],
   "source": [
    "# segg = df['Segmentation'].unique()\n",
    "# print(segg)"
   ]
  },
  {
   "cell_type": "code",
   "execution_count": 100,
   "metadata": {},
   "outputs": [],
   "source": [
    "# Mapping method in label encoding for column Segmentation\n",
    "# map_segg = {'A': 0, 'B': 1, 'C': 2, 'D': 3}\n",
    "\n",
    "# # Apply the mapping to the column\n",
    "# df['Segmentation'] = df['Segmentation'].map(map_segg)"
   ]
  },
  {
   "cell_type": "markdown",
   "metadata": {},
   "source": [
    "# Training data"
   ]
  },
  {
   "cell_type": "code",
   "execution_count": 541,
   "metadata": {},
   "outputs": [],
   "source": [
    "# split data features, targets\n",
    "features = df.drop(columns=['Segmentation'])\n",
    "targets = df['Segmentation']"
   ]
  },
  {
   "cell_type": "code",
   "execution_count": 542,
   "metadata": {},
   "outputs": [],
   "source": [
    "# Label encode for targets column only\n",
    "from tensorflow.keras.utils import to_categorical\n",
    "targets = encoder.fit_transform(targets)\n",
    "\n",
    "num_classes = len(encoder.classes_)\n",
    "targets_encoded = to_categorical(targets, num_classes=num_classes)"
   ]
  },
  {
   "cell_type": "code",
   "execution_count": 543,
   "metadata": {},
   "outputs": [
    {
     "data": {
      "text/html": [
       "<div>\n",
       "<style scoped>\n",
       "    .dataframe tbody tr th:only-of-type {\n",
       "        vertical-align: middle;\n",
       "    }\n",
       "\n",
       "    .dataframe tbody tr th {\n",
       "        vertical-align: top;\n",
       "    }\n",
       "\n",
       "    .dataframe thead th {\n",
       "        text-align: right;\n",
       "    }\n",
       "</style>\n",
       "<table border=\"1\" class=\"dataframe\">\n",
       "  <thead>\n",
       "    <tr style=\"text-align: right;\">\n",
       "      <th></th>\n",
       "      <th>Gender</th>\n",
       "      <th>Ever_Married</th>\n",
       "      <th>Age</th>\n",
       "      <th>Graduated</th>\n",
       "      <th>Profession</th>\n",
       "      <th>Work_Experience</th>\n",
       "      <th>Spending_Score</th>\n",
       "      <th>Family_Size</th>\n",
       "      <th>Var_1</th>\n",
       "      <th>Segmentation</th>\n",
       "    </tr>\n",
       "  </thead>\n",
       "  <tbody>\n",
       "    <tr>\n",
       "      <th>0</th>\n",
       "      <td>1</td>\n",
       "      <td>0</td>\n",
       "      <td>22</td>\n",
       "      <td>0</td>\n",
       "      <td>5</td>\n",
       "      <td>1.0</td>\n",
       "      <td>0</td>\n",
       "      <td>4.0</td>\n",
       "      <td>3</td>\n",
       "      <td>D</td>\n",
       "    </tr>\n",
       "    <tr>\n",
       "      <th>1</th>\n",
       "      <td>0</td>\n",
       "      <td>1</td>\n",
       "      <td>38</td>\n",
       "      <td>1</td>\n",
       "      <td>2</td>\n",
       "      <td>1.0</td>\n",
       "      <td>1</td>\n",
       "      <td>3.0</td>\n",
       "      <td>3</td>\n",
       "      <td>A</td>\n",
       "    </tr>\n",
       "    <tr>\n",
       "      <th>2</th>\n",
       "      <td>0</td>\n",
       "      <td>1</td>\n",
       "      <td>67</td>\n",
       "      <td>1</td>\n",
       "      <td>2</td>\n",
       "      <td>1.0</td>\n",
       "      <td>0</td>\n",
       "      <td>1.0</td>\n",
       "      <td>5</td>\n",
       "      <td>B</td>\n",
       "    </tr>\n",
       "    <tr>\n",
       "      <th>3</th>\n",
       "      <td>1</td>\n",
       "      <td>1</td>\n",
       "      <td>67</td>\n",
       "      <td>1</td>\n",
       "      <td>7</td>\n",
       "      <td>0.0</td>\n",
       "      <td>2</td>\n",
       "      <td>2.0</td>\n",
       "      <td>5</td>\n",
       "      <td>B</td>\n",
       "    </tr>\n",
       "    <tr>\n",
       "      <th>4</th>\n",
       "      <td>0</td>\n",
       "      <td>1</td>\n",
       "      <td>40</td>\n",
       "      <td>1</td>\n",
       "      <td>3</td>\n",
       "      <td>1.0</td>\n",
       "      <td>2</td>\n",
       "      <td>6.0</td>\n",
       "      <td>5</td>\n",
       "      <td>A</td>\n",
       "    </tr>\n",
       "  </tbody>\n",
       "</table>\n",
       "</div>"
      ],
      "text/plain": [
       "   Gender  Ever_Married  Age  Graduated  Profession  Work_Experience  \\\n",
       "0       1             0   22          0           5              1.0   \n",
       "1       0             1   38          1           2              1.0   \n",
       "2       0             1   67          1           2              1.0   \n",
       "3       1             1   67          1           7              0.0   \n",
       "4       0             1   40          1           3              1.0   \n",
       "\n",
       "   Spending_Score  Family_Size  Var_1 Segmentation  \n",
       "0               0          4.0      3            D  \n",
       "1               1          3.0      3            A  \n",
       "2               0          1.0      5            B  \n",
       "3               2          2.0      5            B  \n",
       "4               2          6.0      5            A  "
      ]
     },
     "execution_count": 543,
     "metadata": {},
     "output_type": "execute_result"
    }
   ],
   "source": [
    "df.head()"
   ]
  },
  {
   "cell_type": "code",
   "execution_count": 544,
   "metadata": {},
   "outputs": [],
   "source": [
    "# Split the data into training and testing sets\n",
    "X_train, X_test, y_train, y_test = train_test_split(features, targets_encoded, test_size=0.2, random_state=42)"
   ]
  },
  {
   "cell_type": "code",
   "execution_count": 545,
   "metadata": {},
   "outputs": [],
   "source": [
    "# Create the model\n",
    "model = Sequential()\n",
    "\n",
    "model.add(Dense(64, activation='relu', input_shape=(X_train.shape[1],)))\n",
    "model.add(BatchNormalization())\n",
    "model.add(Dropout(0.3))\n",
    "\n",
    "model.add(Dense(32, activation='relu'))\n",
    "model.add(BatchNormalization())\n",
    "model.add(Dropout(0.3))\n",
    "\n",
    "model.add(Dense(num_classes, activation='softmax'))"
   ]
  },
  {
   "cell_type": "code",
   "execution_count": 546,
   "metadata": {},
   "outputs": [
    {
     "name": "stdout",
     "output_type": "stream",
     "text": [
      "Model: \"sequential_12\"\n",
      "_________________________________________________________________\n",
      " Layer (type)                Output Shape              Param #   \n",
      "=================================================================\n",
      " dense_36 (Dense)            (None, 64)                640       \n",
      "                                                                 \n",
      " batch_normalization_24 (Bat  (None, 64)               256       \n",
      " chNormalization)                                                \n",
      "                                                                 \n",
      " dropout_24 (Dropout)        (None, 64)                0         \n",
      "                                                                 \n",
      " dense_37 (Dense)            (None, 32)                2080      \n",
      "                                                                 \n",
      " batch_normalization_25 (Bat  (None, 32)               128       \n",
      " chNormalization)                                                \n",
      "                                                                 \n",
      " dropout_25 (Dropout)        (None, 32)                0         \n",
      "                                                                 \n",
      " dense_38 (Dense)            (None, 4)                 132       \n",
      "                                                                 \n",
      "=================================================================\n",
      "Total params: 3,236\n",
      "Trainable params: 3,044\n",
      "Non-trainable params: 192\n",
      "_________________________________________________________________\n"
     ]
    }
   ],
   "source": [
    "model.summary()"
   ]
  },
  {
   "cell_type": "code",
   "execution_count": 547,
   "metadata": {},
   "outputs": [],
   "source": [
    "# Compile the model\n",
    "opt = Adam(learning_rate=0.001)\n",
    "model.compile(optimizer=opt, loss='categorical_crossentropy', metrics=['accuracy'])"
   ]
  },
  {
   "cell_type": "code",
   "execution_count": 548,
   "metadata": {},
   "outputs": [],
   "source": [
    "from tensorflow.keras.callbacks import TensorBoard\n",
    "tb = keras.callbacks.TensorBoard(log_dir='logs')"
   ]
  },
  {
   "cell_type": "code",
   "execution_count": 549,
   "metadata": {},
   "outputs": [
    {
     "name": "stdout",
     "output_type": "stream",
     "text": [
      "Epoch 1/100\n",
      "22/22 [==============================] - 4s 23ms/step - loss: 1.7560 - accuracy: 0.3297 - val_loss: 2.3355 - val_accuracy: 0.2486\n",
      "Epoch 2/100\n",
      "22/22 [==============================] - 0s 10ms/step - loss: 1.5930 - accuracy: 0.3698 - val_loss: 1.8853 - val_accuracy: 0.2574\n",
      "Epoch 3/100\n",
      "22/22 [==============================] - 0s 9ms/step - loss: 1.4666 - accuracy: 0.3935 - val_loss: 1.5121 - val_accuracy: 0.3228\n",
      "Epoch 4/100\n",
      "22/22 [==============================] - 0s 10ms/step - loss: 1.4268 - accuracy: 0.4055 - val_loss: 1.3445 - val_accuracy: 0.3751\n",
      "Epoch 5/100\n",
      "22/22 [==============================] - 0s 9ms/step - loss: 1.3871 - accuracy: 0.4143 - val_loss: 1.2855 - val_accuracy: 0.4047\n",
      "Epoch 6/100\n",
      "22/22 [==============================] - 0s 9ms/step - loss: 1.3522 - accuracy: 0.4148 - val_loss: 1.2396 - val_accuracy: 0.4305\n",
      "Epoch 7/100\n",
      "22/22 [==============================] - 0s 9ms/step - loss: 1.3201 - accuracy: 0.4308 - val_loss: 1.1915 - val_accuracy: 0.4556\n",
      "Epoch 8/100\n",
      "22/22 [==============================] - 0s 9ms/step - loss: 1.2830 - accuracy: 0.4381 - val_loss: 1.1700 - val_accuracy: 0.4657\n",
      "Epoch 9/100\n",
      "22/22 [==============================] - 0s 9ms/step - loss: 1.2706 - accuracy: 0.4389 - val_loss: 1.1649 - val_accuracy: 0.4670\n",
      "Epoch 10/100\n",
      "22/22 [==============================] - 0s 10ms/step - loss: 1.2727 - accuracy: 0.4459 - val_loss: 1.1403 - val_accuracy: 0.4852\n",
      "Epoch 11/100\n",
      "22/22 [==============================] - 0s 9ms/step - loss: 1.2323 - accuracy: 0.4581 - val_loss: 1.1370 - val_accuracy: 0.4877\n",
      "Epoch 12/100\n",
      "22/22 [==============================] - 0s 10ms/step - loss: 1.2298 - accuracy: 0.4639 - val_loss: 1.1271 - val_accuracy: 0.4997\n",
      "Epoch 13/100\n",
      "22/22 [==============================] - 0s 9ms/step - loss: 1.2116 - accuracy: 0.4656 - val_loss: 1.1253 - val_accuracy: 0.5079\n",
      "Epoch 14/100\n",
      "22/22 [==============================] - 0s 10ms/step - loss: 1.2058 - accuracy: 0.4585 - val_loss: 1.1316 - val_accuracy: 0.4947\n",
      "Epoch 15/100\n",
      "22/22 [==============================] - 0s 9ms/step - loss: 1.2017 - accuracy: 0.4617 - val_loss: 1.1244 - val_accuracy: 0.5009\n",
      "Epoch 16/100\n",
      "22/22 [==============================] - 0s 9ms/step - loss: 1.1938 - accuracy: 0.4697 - val_loss: 1.1295 - val_accuracy: 0.4865\n",
      "Epoch 17/100\n",
      "22/22 [==============================] - 0s 10ms/step - loss: 1.1837 - accuracy: 0.4807 - val_loss: 1.1293 - val_accuracy: 0.4840\n",
      "Epoch 18/100\n",
      "22/22 [==============================] - 0s 11ms/step - loss: 1.1823 - accuracy: 0.4719 - val_loss: 1.1459 - val_accuracy: 0.4795\n"
     ]
    }
   ],
   "source": [
    "# Train the model\n",
    "epc = 100\n",
    "early_stopping = keras.callbacks.EarlyStopping(patience=3)\n",
    "\n",
    "callbacks = [early_stopping,tb]\n",
    "\n",
    "history = model.fit(X_train, y_train, epochs=epc, batch_size=300, validation_data=(X_test, y_test), callbacks=callbacks)"
   ]
  },
  {
   "cell_type": "code",
   "execution_count": 550,
   "metadata": {},
   "outputs": [
    {
     "name": "stdout",
     "output_type": "stream",
     "text": [
      "Accuracy: 0.47954688483322844\n",
      "F1 Score: 0.44733969300265947\n"
     ]
    }
   ],
   "source": [
    "# Evaluate the model\n",
    "y_pred = np.argmax(model.predict(X_test), axis=1)\n",
    "\n",
    "# accuracy = accuracy_score(y_test, y_pred)\n",
    "# f1 = f1_score(y_test, y_pred)\n",
    "\n",
    "# Calculate accuracy and f1-score\n",
    "accuracy = accuracy_score(np.argmax(y_test, axis=1), y_pred)\n",
    "f1 = f1_score(np.argmax(y_test, axis=1), y_pred, average='weighted')  # 'macro' to 'micro' or 'weighted'\n",
    "\n",
    "print(\"Accuracy:\", accuracy)\n",
    "print(\"F1 Score:\", f1)"
   ]
  },
  {
   "cell_type": "code",
   "execution_count": 551,
   "metadata": {},
   "outputs": [
    {
     "data": {
      "image/png": "[encoded data removed]",
      "text/plain": [
       "<Figure size 500x500 with 1 Axes>"
      ]
     },
     "metadata": {},
     "output_type": "display_data"
    }
   ],
   "source": [
    "fig = plt.figure()\n",
    "plt.plot(history.history['loss'], color='teal', label='loss')\n",
    "plt.plot(history.history['val_loss'], color='orange', label='val_loss')\n",
    "fig.suptitle('Loss', fontsize=20)\n",
    "plt.legend(loc='upper left')\n",
    "plt.show()"
   ]
  },
  {
   "cell_type": "code",
   "execution_count": 552,
   "metadata": {},
   "outputs": [
    {
     "data": {
      "image/png": "[encoded data removed]",
      "text/plain": [
       "<Figure size 500x500 with 1 Axes>"
      ]
     },
     "metadata": {},
     "output_type": "display_data"
    }
   ],
   "source": [
    "fig = plt.figure()\n",
    "plt.plot(history.history['accuracy'], color='teal', label='accuracy')\n",
    "plt.plot(history.history['val_accuracy'], color='orange', label='val_accuracy')\n",
    "fig.suptitle('Accuracy', fontsize=20)\n",
    "plt.legend(loc='upper left')\n",
    "plt.show()"
   ]
  },
  {
   "cell_type": "code",
   "execution_count": 553,
   "metadata": {},
   "outputs": [
    {
     "name": "stdout",
     "output_type": "stream",
     "text": [
      "              precision    recall  f1-score   support\n",
      "\n",
      "           A       0.34      0.52      0.41       375\n",
      "           B       0.27      0.08      0.13       377\n",
      "           C       0.60      0.47      0.52       391\n",
      "           D       0.60      0.79      0.68       446\n",
      "\n",
      "    accuracy                           0.48      1589\n",
      "   macro avg       0.45      0.47      0.44      1589\n",
      "weighted avg       0.46      0.48      0.45      1589\n",
      "\n"
     ]
    }
   ],
   "source": [
    "from sklearn.metrics import confusion_matrix, ConfusionMatrixDisplay, classification_report\n",
    "\n",
    "labels = encoder.classes_\n",
    "\n",
    "cr = classification_report(np.argmax(y_test, axis=1), y_pred, target_names = labels)\n",
    "print(cr)"
   ]
  },
  {
   "cell_type": "code",
   "execution_count": 554,
   "metadata": {},
   "outputs": [
    {
     "data": {
      "image/png": "[encoded data removed]",
      "text/plain": [
       "<Figure size 500x500 with 2 Axes>"
      ]
     },
     "metadata": {},
     "output_type": "display_data"
    }
   ],
   "source": [
    "#displaying confusion matrix using ConfusionMatrixDisplay\n",
    "cm = confusion_matrix(np.argmax(y_test, axis=1), y_pred)\n",
    "disp = ConfusionMatrixDisplay(confusion_matrix=cm, display_labels=labels)\n",
    "disp.plot(cmap=\"Blues\")\n",
    "plt.rcParams['figure.figsize'] = (5, 5)\n",
    "plt.show()"
   ]
  },
  {
   "cell_type": "markdown",
   "metadata": {},
   "source": [
    "# Using Feature Engineering"
   ]
  },
  {
   "cell_type": "code",
   "execution_count": 555,
   "metadata": {},
   "outputs": [
    {
     "data": {
      "text/html": [
       "<div>\n",
       "<style scoped>\n",
       "    .dataframe tbody tr th:only-of-type {\n",
       "        vertical-align: middle;\n",
       "    }\n",
       "\n",
       "    .dataframe tbody tr th {\n",
       "        vertical-align: top;\n",
       "    }\n",
       "\n",
       "    .dataframe thead th {\n",
       "        text-align: right;\n",
       "    }\n",
       "</style>\n",
       "<table border=\"1\" class=\"dataframe\">\n",
       "  <thead>\n",
       "    <tr style=\"text-align: right;\">\n",
       "      <th></th>\n",
       "      <th>Gender</th>\n",
       "      <th>Ever_Married</th>\n",
       "      <th>Age</th>\n",
       "      <th>Graduated</th>\n",
       "      <th>Profession</th>\n",
       "      <th>Work_Experience</th>\n",
       "      <th>Spending_Score</th>\n",
       "      <th>Family_Size</th>\n",
       "      <th>Var_1</th>\n",
       "      <th>Segmentation</th>\n",
       "    </tr>\n",
       "  </thead>\n",
       "  <tbody>\n",
       "    <tr>\n",
       "      <th>0</th>\n",
       "      <td>1</td>\n",
       "      <td>0</td>\n",
       "      <td>22</td>\n",
       "      <td>0</td>\n",
       "      <td>5</td>\n",
       "      <td>1.0</td>\n",
       "      <td>0</td>\n",
       "      <td>4.0</td>\n",
       "      <td>3</td>\n",
       "      <td>D</td>\n",
       "    </tr>\n",
       "    <tr>\n",
       "      <th>1</th>\n",
       "      <td>0</td>\n",
       "      <td>1</td>\n",
       "      <td>38</td>\n",
       "      <td>1</td>\n",
       "      <td>2</td>\n",
       "      <td>1.0</td>\n",
       "      <td>1</td>\n",
       "      <td>3.0</td>\n",
       "      <td>3</td>\n",
       "      <td>A</td>\n",
       "    </tr>\n",
       "    <tr>\n",
       "      <th>2</th>\n",
       "      <td>0</td>\n",
       "      <td>1</td>\n",
       "      <td>67</td>\n",
       "      <td>1</td>\n",
       "      <td>2</td>\n",
       "      <td>1.0</td>\n",
       "      <td>0</td>\n",
       "      <td>1.0</td>\n",
       "      <td>5</td>\n",
       "      <td>B</td>\n",
       "    </tr>\n",
       "    <tr>\n",
       "      <th>3</th>\n",
       "      <td>1</td>\n",
       "      <td>1</td>\n",
       "      <td>67</td>\n",
       "      <td>1</td>\n",
       "      <td>7</td>\n",
       "      <td>0.0</td>\n",
       "      <td>2</td>\n",
       "      <td>2.0</td>\n",
       "      <td>5</td>\n",
       "      <td>B</td>\n",
       "    </tr>\n",
       "    <tr>\n",
       "      <th>4</th>\n",
       "      <td>0</td>\n",
       "      <td>1</td>\n",
       "      <td>40</td>\n",
       "      <td>1</td>\n",
       "      <td>3</td>\n",
       "      <td>1.0</td>\n",
       "      <td>2</td>\n",
       "      <td>6.0</td>\n",
       "      <td>5</td>\n",
       "      <td>A</td>\n",
       "    </tr>\n",
       "  </tbody>\n",
       "</table>\n",
       "</div>"
      ],
      "text/plain": [
       "   Gender  Ever_Married  Age  Graduated  Profession  Work_Experience  \\\n",
       "0       1             0   22          0           5              1.0   \n",
       "1       0             1   38          1           2              1.0   \n",
       "2       0             1   67          1           2              1.0   \n",
       "3       1             1   67          1           7              0.0   \n",
       "4       0             1   40          1           3              1.0   \n",
       "\n",
       "   Spending_Score  Family_Size  Var_1 Segmentation  \n",
       "0               0          4.0      3            D  \n",
       "1               1          3.0      3            A  \n",
       "2               0          1.0      5            B  \n",
       "3               2          2.0      5            B  \n",
       "4               2          6.0      5            A  "
      ]
     },
     "execution_count": 555,
     "metadata": {},
     "output_type": "execute_result"
    }
   ],
   "source": [
    "df.head()"
   ]
  },
  {
   "cell_type": "code",
   "execution_count": 556,
   "metadata": {},
   "outputs": [
    {
     "data": {
      "text/plain": [
       "89"
      ]
     },
     "execution_count": 556,
     "metadata": {},
     "output_type": "execute_result"
    }
   ],
   "source": [
    "df['Age'].max()"
   ]
  },
  {
   "cell_type": "code",
   "execution_count": 557,
   "metadata": {},
   "outputs": [
    {
     "data": {
      "text/plain": [
       "18"
      ]
     },
     "execution_count": 557,
     "metadata": {},
     "output_type": "execute_result"
    }
   ],
   "source": [
    "df['Age'].min()"
   ]
  },
  {
   "cell_type": "code",
   "execution_count": 566,
   "metadata": {},
   "outputs": [],
   "source": [
    "#binning & bucketting\n",
    "df['Age_Group'] = pd.cut(df['Age'], bins=[15, 30, 40, 50, 60, 70, 80, 90], labels=['15-29', '30-39', '40-49', '50-59', '60-69', '70-79', '80-89'])"
   ]
  },
  {
   "cell_type": "code",
   "execution_count": 567,
   "metadata": {},
   "outputs": [
    {
     "data": {
      "text/html": [
       "<div>\n",
       "<style scoped>\n",
       "    .dataframe tbody tr th:only-of-type {\n",
       "        vertical-align: middle;\n",
       "    }\n",
       "\n",
       "    .dataframe tbody tr th {\n",
       "        vertical-align: top;\n",
       "    }\n",
       "\n",
       "    .dataframe thead th {\n",
       "        text-align: right;\n",
       "    }\n",
       "</style>\n",
       "<table border=\"1\" class=\"dataframe\">\n",
       "  <thead>\n",
       "    <tr style=\"text-align: right;\">\n",
       "      <th></th>\n",
       "      <th>Gender</th>\n",
       "      <th>Ever_Married</th>\n",
       "      <th>Age</th>\n",
       "      <th>Graduated</th>\n",
       "      <th>Profession</th>\n",
       "      <th>Work_Experience</th>\n",
       "      <th>Spending_Score</th>\n",
       "      <th>Family_Size</th>\n",
       "      <th>Var_1</th>\n",
       "      <th>Segmentation</th>\n",
       "      <th>Age_Group</th>\n",
       "    </tr>\n",
       "  </thead>\n",
       "  <tbody>\n",
       "    <tr>\n",
       "      <th>0</th>\n",
       "      <td>1</td>\n",
       "      <td>0</td>\n",
       "      <td>22</td>\n",
       "      <td>0</td>\n",
       "      <td>5</td>\n",
       "      <td>1.0</td>\n",
       "      <td>0</td>\n",
       "      <td>4.0</td>\n",
       "      <td>3</td>\n",
       "      <td>D</td>\n",
       "      <td>15-29</td>\n",
       "    </tr>\n",
       "    <tr>\n",
       "      <th>1</th>\n",
       "      <td>0</td>\n",
       "      <td>1</td>\n",
       "      <td>38</td>\n",
       "      <td>1</td>\n",
       "      <td>2</td>\n",
       "      <td>1.0</td>\n",
       "      <td>1</td>\n",
       "      <td>3.0</td>\n",
       "      <td>3</td>\n",
       "      <td>A</td>\n",
       "      <td>30-39</td>\n",
       "    </tr>\n",
       "    <tr>\n",
       "      <th>2</th>\n",
       "      <td>0</td>\n",
       "      <td>1</td>\n",
       "      <td>67</td>\n",
       "      <td>1</td>\n",
       "      <td>2</td>\n",
       "      <td>1.0</td>\n",
       "      <td>0</td>\n",
       "      <td>1.0</td>\n",
       "      <td>5</td>\n",
       "      <td>B</td>\n",
       "      <td>60-69</td>\n",
       "    </tr>\n",
       "    <tr>\n",
       "      <th>3</th>\n",
       "      <td>1</td>\n",
       "      <td>1</td>\n",
       "      <td>67</td>\n",
       "      <td>1</td>\n",
       "      <td>7</td>\n",
       "      <td>0.0</td>\n",
       "      <td>2</td>\n",
       "      <td>2.0</td>\n",
       "      <td>5</td>\n",
       "      <td>B</td>\n",
       "      <td>60-69</td>\n",
       "    </tr>\n",
       "    <tr>\n",
       "      <th>4</th>\n",
       "      <td>0</td>\n",
       "      <td>1</td>\n",
       "      <td>40</td>\n",
       "      <td>1</td>\n",
       "      <td>3</td>\n",
       "      <td>1.0</td>\n",
       "      <td>2</td>\n",
       "      <td>6.0</td>\n",
       "      <td>5</td>\n",
       "      <td>A</td>\n",
       "      <td>30-39</td>\n",
       "    </tr>\n",
       "  </tbody>\n",
       "</table>\n",
       "</div>"
      ],
      "text/plain": [
       "   Gender  Ever_Married  Age  Graduated  Profession  Work_Experience  \\\n",
       "0       1             0   22          0           5              1.0   \n",
       "1       0             1   38          1           2              1.0   \n",
       "2       0             1   67          1           2              1.0   \n",
       "3       1             1   67          1           7              0.0   \n",
       "4       0             1   40          1           3              1.0   \n",
       "\n",
       "   Spending_Score  Family_Size  Var_1 Segmentation Age_Group  \n",
       "0               0          4.0      3            D     15-29  \n",
       "1               1          3.0      3            A     30-39  \n",
       "2               0          1.0      5            B     60-69  \n",
       "3               2          2.0      5            B     60-69  \n",
       "4               2          6.0      5            A     30-39  "
      ]
     },
     "execution_count": 567,
     "metadata": {},
     "output_type": "execute_result"
    }
   ],
   "source": [
    "df.head()"
   ]
  },
  {
   "cell_type": "code",
   "execution_count": 571,
   "metadata": {},
   "outputs": [],
   "source": [
    "# label encode the column\n",
    "df['Age_Group'] = encoder.fit_transform(df['Age_Group'].values)"
   ]
  },
  {
   "cell_type": "code",
   "execution_count": 572,
   "metadata": {},
   "outputs": [
    {
     "data": {
      "text/html": [
       "<div>\n",
       "<style scoped>\n",
       "    .dataframe tbody tr th:only-of-type {\n",
       "        vertical-align: middle;\n",
       "    }\n",
       "\n",
       "    .dataframe tbody tr th {\n",
       "        vertical-align: top;\n",
       "    }\n",
       "\n",
       "    .dataframe thead th {\n",
       "        text-align: right;\n",
       "    }\n",
       "</style>\n",
       "<table border=\"1\" class=\"dataframe\">\n",
       "  <thead>\n",
       "    <tr style=\"text-align: right;\">\n",
       "      <th></th>\n",
       "      <th>Gender</th>\n",
       "      <th>Ever_Married</th>\n",
       "      <th>Age</th>\n",
       "      <th>Graduated</th>\n",
       "      <th>Profession</th>\n",
       "      <th>Work_Experience</th>\n",
       "      <th>Spending_Score</th>\n",
       "      <th>Family_Size</th>\n",
       "      <th>Var_1</th>\n",
       "      <th>Segmentation</th>\n",
       "      <th>Age_Group</th>\n",
       "    </tr>\n",
       "  </thead>\n",
       "  <tbody>\n",
       "    <tr>\n",
       "      <th>0</th>\n",
       "      <td>1</td>\n",
       "      <td>0</td>\n",
       "      <td>22</td>\n",
       "      <td>0</td>\n",
       "      <td>5</td>\n",
       "      <td>1.0</td>\n",
       "      <td>0</td>\n",
       "      <td>4.0</td>\n",
       "      <td>3</td>\n",
       "      <td>D</td>\n",
       "      <td>0</td>\n",
       "    </tr>\n",
       "    <tr>\n",
       "      <th>1</th>\n",
       "      <td>0</td>\n",
       "      <td>1</td>\n",
       "      <td>38</td>\n",
       "      <td>1</td>\n",
       "      <td>2</td>\n",
       "      <td>1.0</td>\n",
       "      <td>1</td>\n",
       "      <td>3.0</td>\n",
       "      <td>3</td>\n",
       "      <td>A</td>\n",
       "      <td>1</td>\n",
       "    </tr>\n",
       "    <tr>\n",
       "      <th>2</th>\n",
       "      <td>0</td>\n",
       "      <td>1</td>\n",
       "      <td>67</td>\n",
       "      <td>1</td>\n",
       "      <td>2</td>\n",
       "      <td>1.0</td>\n",
       "      <td>0</td>\n",
       "      <td>1.0</td>\n",
       "      <td>5</td>\n",
       "      <td>B</td>\n",
       "      <td>4</td>\n",
       "    </tr>\n",
       "    <tr>\n",
       "      <th>3</th>\n",
       "      <td>1</td>\n",
       "      <td>1</td>\n",
       "      <td>67</td>\n",
       "      <td>1</td>\n",
       "      <td>7</td>\n",
       "      <td>0.0</td>\n",
       "      <td>2</td>\n",
       "      <td>2.0</td>\n",
       "      <td>5</td>\n",
       "      <td>B</td>\n",
       "      <td>4</td>\n",
       "    </tr>\n",
       "    <tr>\n",
       "      <th>4</th>\n",
       "      <td>0</td>\n",
       "      <td>1</td>\n",
       "      <td>40</td>\n",
       "      <td>1</td>\n",
       "      <td>3</td>\n",
       "      <td>1.0</td>\n",
       "      <td>2</td>\n",
       "      <td>6.0</td>\n",
       "      <td>5</td>\n",
       "      <td>A</td>\n",
       "      <td>1</td>\n",
       "    </tr>\n",
       "  </tbody>\n",
       "</table>\n",
       "</div>"
      ],
      "text/plain": [
       "   Gender  Ever_Married  Age  Graduated  Profession  Work_Experience  \\\n",
       "0       1             0   22          0           5              1.0   \n",
       "1       0             1   38          1           2              1.0   \n",
       "2       0             1   67          1           2              1.0   \n",
       "3       1             1   67          1           7              0.0   \n",
       "4       0             1   40          1           3              1.0   \n",
       "\n",
       "   Spending_Score  Family_Size  Var_1 Segmentation  Age_Group  \n",
       "0               0          4.0      3            D          0  \n",
       "1               1          3.0      3            A          1  \n",
       "2               0          1.0      5            B          4  \n",
       "3               2          2.0      5            B          4  \n",
       "4               2          6.0      5            A          1  "
      ]
     },
     "execution_count": 572,
     "metadata": {},
     "output_type": "execute_result"
    }
   ],
   "source": [
    "df.head()"
   ]
  },
  {
   "cell_type": "code",
   "execution_count": 574,
   "metadata": {},
   "outputs": [],
   "source": [
    "new_df = df.drop(columns=['Age'])"
   ]
  },
  {
   "cell_type": "code",
   "execution_count": 575,
   "metadata": {},
   "outputs": [
    {
     "data": {
      "text/html": [
       "<div>\n",
       "<style scoped>\n",
       "    .dataframe tbody tr th:only-of-type {\n",
       "        vertical-align: middle;\n",
       "    }\n",
       "\n",
       "    .dataframe tbody tr th {\n",
       "        vertical-align: top;\n",
       "    }\n",
       "\n",
       "    .dataframe thead th {\n",
       "        text-align: right;\n",
       "    }\n",
       "</style>\n",
       "<table border=\"1\" class=\"dataframe\">\n",
       "  <thead>\n",
       "    <tr style=\"text-align: right;\">\n",
       "      <th></th>\n",
       "      <th>Gender</th>\n",
       "      <th>Ever_Married</th>\n",
       "      <th>Graduated</th>\n",
       "      <th>Profession</th>\n",
       "      <th>Work_Experience</th>\n",
       "      <th>Spending_Score</th>\n",
       "      <th>Family_Size</th>\n",
       "      <th>Var_1</th>\n",
       "      <th>Segmentation</th>\n",
       "      <th>Age_Group</th>\n",
       "    </tr>\n",
       "  </thead>\n",
       "  <tbody>\n",
       "    <tr>\n",
       "      <th>0</th>\n",
       "      <td>1</td>\n",
       "      <td>0</td>\n",
       "      <td>0</td>\n",
       "      <td>5</td>\n",
       "      <td>1.0</td>\n",
       "      <td>0</td>\n",
       "      <td>4.0</td>\n",
       "      <td>3</td>\n",
       "      <td>D</td>\n",
       "      <td>0</td>\n",
       "    </tr>\n",
       "    <tr>\n",
       "      <th>1</th>\n",
       "      <td>0</td>\n",
       "      <td>1</td>\n",
       "      <td>1</td>\n",
       "      <td>2</td>\n",
       "      <td>1.0</td>\n",
       "      <td>1</td>\n",
       "      <td>3.0</td>\n",
       "      <td>3</td>\n",
       "      <td>A</td>\n",
       "      <td>1</td>\n",
       "    </tr>\n",
       "    <tr>\n",
       "      <th>2</th>\n",
       "      <td>0</td>\n",
       "      <td>1</td>\n",
       "      <td>1</td>\n",
       "      <td>2</td>\n",
       "      <td>1.0</td>\n",
       "      <td>0</td>\n",
       "      <td>1.0</td>\n",
       "      <td>5</td>\n",
       "      <td>B</td>\n",
       "      <td>4</td>\n",
       "    </tr>\n",
       "    <tr>\n",
       "      <th>3</th>\n",
       "      <td>1</td>\n",
       "      <td>1</td>\n",
       "      <td>1</td>\n",
       "      <td>7</td>\n",
       "      <td>0.0</td>\n",
       "      <td>2</td>\n",
       "      <td>2.0</td>\n",
       "      <td>5</td>\n",
       "      <td>B</td>\n",
       "      <td>4</td>\n",
       "    </tr>\n",
       "    <tr>\n",
       "      <th>4</th>\n",
       "      <td>0</td>\n",
       "      <td>1</td>\n",
       "      <td>1</td>\n",
       "      <td>3</td>\n",
       "      <td>1.0</td>\n",
       "      <td>2</td>\n",
       "      <td>6.0</td>\n",
       "      <td>5</td>\n",
       "      <td>A</td>\n",
       "      <td>1</td>\n",
       "    </tr>\n",
       "  </tbody>\n",
       "</table>\n",
       "</div>"
      ],
      "text/plain": [
       "   Gender  Ever_Married  Graduated  Profession  Work_Experience  \\\n",
       "0       1             0          0           5              1.0   \n",
       "1       0             1          1           2              1.0   \n",
       "2       0             1          1           2              1.0   \n",
       "3       1             1          1           7              0.0   \n",
       "4       0             1          1           3              1.0   \n",
       "\n",
       "   Spending_Score  Family_Size  Var_1 Segmentation  Age_Group  \n",
       "0               0          4.0      3            D          0  \n",
       "1               1          3.0      3            A          1  \n",
       "2               0          1.0      5            B          4  \n",
       "3               2          2.0      5            B          4  \n",
       "4               2          6.0      5            A          1  "
      ]
     },
     "execution_count": 575,
     "metadata": {},
     "output_type": "execute_result"
    }
   ],
   "source": [
    "new_df.head()"
   ]
  },
  {
   "cell_type": "code",
   "execution_count": 576,
   "metadata": {},
   "outputs": [],
   "source": [
    "# split new data for training\n",
    "fea = new_df.drop(columns=['Segmentation'])\n",
    "tar = new_df['Segmentation']"
   ]
  },
  {
   "cell_type": "code",
   "execution_count": 577,
   "metadata": {},
   "outputs": [],
   "source": [
    "tar = encoder.fit_transform(tar)\n",
    "#num_classes = len(encoder.classes_)\n",
    "tar_encoded = to_categorical(tar, num_classes=num_classes)"
   ]
  },
  {
   "cell_type": "code",
   "execution_count": 578,
   "metadata": {},
   "outputs": [],
   "source": [
    "# Split the data into training and testing sets\n",
    "NX_train, NX_test, Ny_train, Ny_test = train_test_split(fea, tar_encoded, test_size=0.2, random_state=42)"
   ]
  },
  {
   "cell_type": "code",
   "execution_count": 579,
   "metadata": {},
   "outputs": [],
   "source": [
    "# Create the Nmodel\n",
    "Nmodel = Sequential()\n",
    "\n",
    "Nmodel.add(Dense(64, activation='relu', input_shape=(NX_train.shape[1],)))\n",
    "Nmodel.add(BatchNormalization())\n",
    "Nmodel.add(Dropout(0.3))\n",
    "\n",
    "Nmodel.add(Dense(32, activation='relu'))\n",
    "Nmodel.add(BatchNormalization())\n",
    "Nmodel.add(Dropout(0.3))\n",
    "\n",
    "Nmodel.add(Dense(num_classes, activation='softmax'))"
   ]
  },
  {
   "cell_type": "code",
   "execution_count": 580,
   "metadata": {},
   "outputs": [],
   "source": [
    "# Compile the Nmodel\n",
    "Nmodel.compile(optimizer=opt, loss='categorical_crossentropy', metrics=['accuracy'])"
   ]
  },
  {
   "cell_type": "code",
   "execution_count": 581,
   "metadata": {},
   "outputs": [
    {
     "name": "stdout",
     "output_type": "stream",
     "text": [
      "Epoch 1/100\n",
      "22/22 [==============================] - 2s 24ms/step - loss: 1.6423 - accuracy: 0.3427 - val_loss: 1.2679 - val_accuracy: 0.3927\n",
      "Epoch 2/100\n",
      "22/22 [==============================] - 0s 10ms/step - loss: 1.3216 - accuracy: 0.4234 - val_loss: 1.2525 - val_accuracy: 0.4047\n",
      "Epoch 3/100\n",
      "22/22 [==============================] - 0s 9ms/step - loss: 1.2474 - accuracy: 0.4461 - val_loss: 1.2189 - val_accuracy: 0.4216\n",
      "Epoch 4/100\n",
      "22/22 [==============================] - 0s 12ms/step - loss: 1.2134 - accuracy: 0.4579 - val_loss: 1.2029 - val_accuracy: 0.4349\n",
      "Epoch 5/100\n",
      "22/22 [==============================] - 0s 10ms/step - loss: 1.1869 - accuracy: 0.4724 - val_loss: 1.1860 - val_accuracy: 0.4506\n",
      "Epoch 6/100\n",
      "22/22 [==============================] - 0s 9ms/step - loss: 1.1854 - accuracy: 0.4719 - val_loss: 1.1788 - val_accuracy: 0.4676\n",
      "Epoch 7/100\n",
      "22/22 [==============================] - 0s 10ms/step - loss: 1.1717 - accuracy: 0.4776 - val_loss: 1.1581 - val_accuracy: 0.4947\n",
      "Epoch 8/100\n",
      "22/22 [==============================] - 0s 9ms/step - loss: 1.1643 - accuracy: 0.4803 - val_loss: 1.1432 - val_accuracy: 0.5022\n",
      "Epoch 9/100\n",
      "22/22 [==============================] - 0s 9ms/step - loss: 1.1563 - accuracy: 0.4878 - val_loss: 1.1381 - val_accuracy: 0.5003\n",
      "Epoch 10/100\n",
      "22/22 [==============================] - 0s 9ms/step - loss: 1.1564 - accuracy: 0.4881 - val_loss: 1.1286 - val_accuracy: 0.5079\n",
      "Epoch 11/100\n",
      "22/22 [==============================] - 0s 9ms/step - loss: 1.1483 - accuracy: 0.4804 - val_loss: 1.1266 - val_accuracy: 0.5066\n",
      "Epoch 12/100\n",
      "22/22 [==============================] - 0s 9ms/step - loss: 1.1450 - accuracy: 0.4922 - val_loss: 1.1228 - val_accuracy: 0.5047\n",
      "Epoch 13/100\n",
      "22/22 [==============================] - 0s 9ms/step - loss: 1.1339 - accuracy: 0.4993 - val_loss: 1.1184 - val_accuracy: 0.5060\n",
      "Epoch 14/100\n",
      "22/22 [==============================] - 0s 11ms/step - loss: 1.1391 - accuracy: 0.4952 - val_loss: 1.1186 - val_accuracy: 0.5079\n",
      "Epoch 15/100\n",
      "22/22 [==============================] - 0s 10ms/step - loss: 1.1348 - accuracy: 0.4905 - val_loss: 1.1160 - val_accuracy: 0.5028\n",
      "Epoch 16/100\n",
      "22/22 [==============================] - 0s 13ms/step - loss: 1.1334 - accuracy: 0.4974 - val_loss: 1.1127 - val_accuracy: 0.5098\n",
      "Epoch 17/100\n",
      "22/22 [==============================] - 0s 12ms/step - loss: 1.1314 - accuracy: 0.5064 - val_loss: 1.1108 - val_accuracy: 0.5066\n",
      "Epoch 18/100\n",
      "22/22 [==============================] - 0s 10ms/step - loss: 1.1316 - accuracy: 0.5015 - val_loss: 1.1081 - val_accuracy: 0.5104\n",
      "Epoch 19/100\n",
      "22/22 [==============================] - 0s 10ms/step - loss: 1.1254 - accuracy: 0.5024 - val_loss: 1.1049 - val_accuracy: 0.5148\n",
      "Epoch 20/100\n",
      "22/22 [==============================] - 0s 10ms/step - loss: 1.1262 - accuracy: 0.4963 - val_loss: 1.1063 - val_accuracy: 0.5104\n",
      "Epoch 21/100\n",
      "22/22 [==============================] - 0s 10ms/step - loss: 1.1200 - accuracy: 0.5024 - val_loss: 1.1055 - val_accuracy: 0.5116\n",
      "Epoch 22/100\n",
      "22/22 [==============================] - 0s 8ms/step - loss: 1.1219 - accuracy: 0.5045 - val_loss: 1.1047 - val_accuracy: 0.5110\n",
      "Epoch 23/100\n",
      "22/22 [==============================] - 0s 18ms/step - loss: 1.1216 - accuracy: 0.5037 - val_loss: 1.1034 - val_accuracy: 0.5110\n",
      "Epoch 24/100\n",
      "22/22 [==============================] - 0s 10ms/step - loss: 1.1203 - accuracy: 0.5029 - val_loss: 1.1032 - val_accuracy: 0.5116\n",
      "Epoch 25/100\n",
      "22/22 [==============================] - 0s 9ms/step - loss: 1.1228 - accuracy: 0.5119 - val_loss: 1.1038 - val_accuracy: 0.5173\n",
      "Epoch 26/100\n",
      "22/22 [==============================] - 0s 9ms/step - loss: 1.1166 - accuracy: 0.5153 - val_loss: 1.1025 - val_accuracy: 0.5148\n",
      "Epoch 27/100\n",
      "22/22 [==============================] - 0s 9ms/step - loss: 1.1189 - accuracy: 0.5124 - val_loss: 1.1004 - val_accuracy: 0.5135\n",
      "Epoch 28/100\n",
      "22/22 [==============================] - 0s 9ms/step - loss: 1.1112 - accuracy: 0.5087 - val_loss: 1.1011 - val_accuracy: 0.5142\n",
      "Epoch 29/100\n",
      "22/22 [==============================] - 0s 10ms/step - loss: 1.1126 - accuracy: 0.5150 - val_loss: 1.1000 - val_accuracy: 0.5154\n",
      "Epoch 30/100\n",
      "22/22 [==============================] - 0s 9ms/step - loss: 1.1190 - accuracy: 0.5114 - val_loss: 1.1002 - val_accuracy: 0.5217\n",
      "Epoch 31/100\n",
      "22/22 [==============================] - 0s 9ms/step - loss: 1.1061 - accuracy: 0.5144 - val_loss: 1.0996 - val_accuracy: 0.5198\n",
      "Epoch 32/100\n",
      "22/22 [==============================] - 0s 9ms/step - loss: 1.1096 - accuracy: 0.5175 - val_loss: 1.0993 - val_accuracy: 0.5160\n",
      "Epoch 33/100\n",
      "22/22 [==============================] - 0s 9ms/step - loss: 1.1101 - accuracy: 0.5100 - val_loss: 1.0978 - val_accuracy: 0.5198\n",
      "Epoch 34/100\n",
      "22/22 [==============================] - 0s 12ms/step - loss: 1.1132 - accuracy: 0.5169 - val_loss: 1.0989 - val_accuracy: 0.5205\n",
      "Epoch 35/100\n",
      "22/22 [==============================] - 0s 9ms/step - loss: 1.1130 - accuracy: 0.5090 - val_loss: 1.0974 - val_accuracy: 0.5173\n",
      "Epoch 36/100\n",
      "22/22 [==============================] - 0s 9ms/step - loss: 1.1031 - accuracy: 0.5169 - val_loss: 1.0958 - val_accuracy: 0.5192\n",
      "Epoch 37/100\n",
      "22/22 [==============================] - 0s 9ms/step - loss: 1.1074 - accuracy: 0.5179 - val_loss: 1.0968 - val_accuracy: 0.5179\n",
      "Epoch 38/100\n",
      "22/22 [==============================] - 0s 9ms/step - loss: 1.1084 - accuracy: 0.5105 - val_loss: 1.0965 - val_accuracy: 0.5148\n",
      "Epoch 39/100\n",
      "22/22 [==============================] - 0s 10ms/step - loss: 1.1050 - accuracy: 0.5152 - val_loss: 1.0972 - val_accuracy: 0.5186\n"
     ]
    }
   ],
   "source": [
    "# Train the model\n",
    "#epc = 100\n",
    "\n",
    "Nhistory = Nmodel.fit(NX_train, Ny_train, epochs=epc, batch_size=300, validation_data=(NX_test, Ny_test), callbacks=callbacks)"
   ]
  },
  {
   "cell_type": "code",
   "execution_count": 582,
   "metadata": {},
   "outputs": [
    {
     "name": "stdout",
     "output_type": "stream",
     "text": [
      "Accuracy: 0.5185651353052234\n",
      "F1 Score: 0.5002204722735084\n"
     ]
    }
   ],
   "source": [
    "# Evaluate the model\n",
    "Ny_pred = np.argmax(Nmodel.predict(NX_test), axis=1)\n",
    "\n",
    "# Calculate accuracy and f1-score\n",
    "Naccuracy = accuracy_score(np.argmax(Ny_test, axis=1), Ny_pred)\n",
    "Nf1 = f1_score(np.argmax(Ny_test, axis=1), Ny_pred, average='weighted')  # 'macro' to 'micro' or 'weighted'\n",
    "\n",
    "print(\"Accuracy:\", Naccuracy)\n",
    "print(\"F1 Score:\", Nf1)"
   ]
  },
  {
   "cell_type": "markdown",
   "metadata": {},
   "source": [
    "- a bit improving using feature engineering (binning/buckecting)"
   ]
  },
  {
   "cell_type": "markdown",
   "metadata": {},
   "source": [
    "# Using ML"
   ]
  },
  {
   "cell_type": "code",
   "execution_count": 613,
   "metadata": {},
   "outputs": [],
   "source": [
    "# split new data\n",
    "xx = df.drop(columns=['Segmentation'])\n",
    "yy = df['Segmentation']"
   ]
  },
  {
   "cell_type": "code",
   "execution_count": 614,
   "metadata": {},
   "outputs": [],
   "source": [
    "yy = encoder.fit_transform(yy)"
   ]
  },
  {
   "cell_type": "code",
   "execution_count": 615,
   "metadata": {},
   "outputs": [],
   "source": [
    "Xx_train, Xx_test, yy_train, yy_test = train_test_split(xx, yy, test_size=0.2, random_state=42)"
   ]
  },
  {
   "cell_type": "code",
   "execution_count": 616,
   "metadata": {},
   "outputs": [],
   "source": [
    "from sklearn.preprocessing import MinMaxScaler, StandardScaler\n",
    "from sklearn.linear_model import LogisticRegression\n",
    "from sklearn.ensemble import RandomForestClassifier, GradientBoostingClassifier\n",
    "from sklearn.pipeline import Pipeline\n",
    "from sklearn.svm import SVC\n",
    "\n",
    "#model evaluation\n",
    "from sklearn.metrics import accuracy_score, precision_score, recall_score, f1_score"
   ]
  },
  {
   "cell_type": "code",
   "execution_count": 617,
   "metadata": {},
   "outputs": [],
   "source": [
    "#creating pipeline for each model\n",
    "pipelines = [\n",
    "    (\"MMS + LR\", Pipeline([('scaler', MinMaxScaler()), ('lr', LogisticRegression())])),\n",
    "    ('SS + LR', Pipeline([('scaler', StandardScaler()), ('lr', LogisticRegression())])),\n",
    "    ('MMS + RF', Pipeline([('scaler', MinMaxScaler()), ('rf', RandomForestClassifier())])),\n",
    "    ('SS + RF', Pipeline([('scaler', StandardScaler()), ('rf', RandomForestClassifier())])),\n",
    "    ('MMS + GB', Pipeline([('scaler', MinMaxScaler()), ('gb', GradientBoostingClassifier())])),\n",
    "    ('SS + GB', Pipeline([('scaler', StandardScaler()), ('gb', GradientBoostingClassifier())])),\n",
    "]"
   ]
  },
  {
   "cell_type": "code",
   "execution_count": 618,
   "metadata": {},
   "outputs": [
    {
     "name": "stdout",
     "output_type": "stream",
     "text": [
      "Training MMS + LR pipeline\n",
      "Training SS + LR pipeline\n",
      "Training MMS + RF pipeline\n",
      "Training SS + RF pipeline\n",
      "Training MMS + GB pipeline\n",
      "Training SS + GB pipeline\n"
     ]
    }
   ],
   "source": [
    "#Training all the pipelines\n",
    "for name, pipe in pipelines:\n",
    "    print(f\"Training {name} pipeline\")\n",
    "    pipe.fit(Xx_train, yy_train)"
   ]
  },
  {
   "cell_type": "code",
   "execution_count": 619,
   "metadata": {},
   "outputs": [
    {
     "name": "stdout",
     "output_type": "stream",
     "text": [
      "The best model is MMS + GB with an accuracy of 0.5280050346129641\n"
     ]
    }
   ],
   "source": [
    "#model evaluation\n",
    "pipe_dict = {}\n",
    "\n",
    "#initialising best score to 0\n",
    "best_score = 0.0\n",
    "\n",
    "#instantiating an empty string to store the name of the best model\n",
    "best_pipe = ''\n",
    "\n",
    "#looping over each pipeline to evaluate them\n",
    "for name, pipe in pipelines:\n",
    "    yy_pred = pipe.predict(Xx_test)\n",
    "\n",
    "    pipe_dict[name] = [accuracy_score(yy_test, yy_pred), f1_score(yy_test, yy_pred, average = 'weighted')]\n",
    "    \n",
    "    if pipe.score(Xx_test, yy_test) > best_score:\n",
    "        best_score = pipe.score(Xx_test, yy_test)\n",
    "        best_pipe = name\n",
    "\n",
    "print(f\"The best model is {best_pipe} with an accuracy of {best_score}\")"
   ]
  },
  {
   "cell_type": "code",
   "execution_count": 620,
   "metadata": {},
   "outputs": [
    {
     "name": "stdout",
     "output_type": "stream",
     "text": [
      "MMS + GB\n",
      "Pipeline(steps=[('scaler', MinMaxScaler()),\n",
      "                ('gb', GradientBoostingClassifier())])\n"
     ]
    }
   ],
   "source": [
    "# select best model (Model Name = model_ml)\n",
    "name_ml, model_ml = pipelines[4]\n",
    "\n",
    "print(name_ml)\n",
    "print(model_ml)"
   ]
  },
  {
   "cell_type": "code",
   "execution_count": 621,
   "metadata": {},
   "outputs": [
    {
     "name": "stdout",
     "output_type": "stream",
     "text": [
      "              precision    recall  f1-score   support\n",
      "\n",
      "           A       0.42      0.43      0.42       375\n",
      "           B       0.41      0.33      0.37       377\n",
      "           C       0.59      0.59      0.59       391\n",
      "           D       0.63      0.72      0.67       446\n",
      "\n",
      "    accuracy                           0.53      1589\n",
      "   macro avg       0.51      0.52      0.51      1589\n",
      "weighted avg       0.52      0.53      0.52      1589\n",
      "\n"
     ]
    }
   ],
   "source": [
    "value_to_label = {0: 'A', 1: 'B', 2: 'C', 3: 'D'}\n",
    "\n",
    "# Map values to labels\n",
    "lab = [value_to_label[value] for value in (np.unique(yy))]\n",
    "\n",
    "crr = classification_report(yy_test, yy_pred, target_names = lab)\n",
    "print(crr)"
   ]
  },
  {
   "cell_type": "markdown",
   "metadata": {},
   "source": [
    "- slight improve using ML from feature engineering"
   ]
  },
  {
   "cell_type": "markdown",
   "metadata": {},
   "source": [
    "# Conclusion based on the Models used"
   ]
  },
  {
   "cell_type": "markdown",
   "metadata": {},
   "source": [
    "- accuracy ->  DL -> 60%\n",
    "- Options: Machine Learning - >65%?\n",
    "- comparison and conclusion - explain why ML perform better in this case (inference) - mathematically sound inference "
   ]
  },
  {
   "cell_type": "markdown",
   "metadata": {},
   "source": [
    "1. accuracy achieved:\n",
    "- DL = 0.47\n",
    "- DL(feature engineering) = 0.51\n",
    "- ML = 0.53\n",
    "\n",
    "2. Using Machine Learning (ML) have the highest accuracy compare to DeepLearning (DL) because one of it is about the Data Size, ML tends to perform better for smaller dataset, while DL need to have large dataset to perform well.\n",
    "\n",
    "3. Proven that using Feature Engineering could have better results eg. accuracy\n",
    "\n",
    "4. In terms of model complexity, DL more complex compare to ML so that ML can perform better using this dataset I guess"
   ]
  },
  {
   "cell_type": "markdown",
   "metadata": {},
   "source": [
    "# Save Model"
   ]
  },
  {
   "cell_type": "code",
   "execution_count": 623,
   "metadata": {},
   "outputs": [],
   "source": [
    "# save model DL\n",
    "model.save(os.path.join('models', 'model.h5'))\n",
    "\n",
    "# save model DL feature engineering\n",
    "Nmodel.save(os.path.join('models', 'Nmodel.h5'))\n",
    "\n",
    "# save model ML\n",
    "import pickle\n",
    "\n",
    "with open('model_ml.pkl', 'wb') as file:\n",
    "    pickle.dump(model_ml, file)\n"
   ]
  },
  {
   "cell_type": "code",
   "execution_count": 627,
   "metadata": {},
   "outputs": [
    {
     "data": {
      "image/png": "[encoded data removed]",
      "text/plain": [
       "<IPython.core.display.Image object>"
      ]
     },
     "execution_count": 627,
     "metadata": {},
     "output_type": "execute_result"
    }
   ],
   "source": [
    "# save model architecture\n",
    "from tensorflow.keras.utils import plot_model\n",
    "plot_model(model, to_file='model_architecture.png', show_shapes=True)\n",
    "# plot_model(Nmodel, to_file='Nmodel_architecture.png', show_shapes=True)"
   ]
  },
  {
   "cell_type": "markdown",
   "metadata": {},
   "source": [
    "# test data"
   ]
  },
  {
   "cell_type": "code",
   "execution_count": 437,
   "metadata": {},
   "outputs": [],
   "source": [
    "TEST_PATH = os.path.join(PATH, 'new_customers.csv')\n",
    "\n",
    "df_test = pd.read_csv(TEST_PATH)"
   ]
  },
  {
   "cell_type": "code",
   "execution_count": 438,
   "metadata": {},
   "outputs": [
    {
     "data": {
      "text/plain": [
       "ID                    0\n",
       "Gender                0\n",
       "Ever_Married         50\n",
       "Age                   0\n",
       "Graduated            24\n",
       "Profession           38\n",
       "Work_Experience     269\n",
       "Spending_Score        0\n",
       "Family_Size         113\n",
       "Var_1                32\n",
       "Segmentation       2627\n",
       "dtype: int64"
      ]
     },
     "execution_count": 438,
     "metadata": {},
     "output_type": "execute_result"
    }
   ],
   "source": [
    "df_test.isna().sum()"
   ]
  },
  {
   "cell_type": "code",
   "execution_count": null,
   "metadata": {},
   "outputs": [],
   "source": [
    "# load model\n",
    "# from tensorflow.keras.models import load_model\n",
    "# load_model = load_model('./models/model.h5')"
   ]
  }
 ],
 "metadata": {
  "kernelspec": {
   "display_name": "tensorflow",
   "language": "python",
   "name": "python3"
  },
  "language_info": {
   "codemirror_mode": {
    "name": "ipython",
    "version": 3
   },
   "file_extension": ".py",
   "mimetype": "text/x-python",
   "name": "python",
   "nbconvert_exporter": "python",
   "pygments_lexer": "ipython3",
   "version": "3.8.17"
  },
  "orig_nbformat": 4
 },
 "nbformat": 4,
 "nbformat_minor": 2
}
